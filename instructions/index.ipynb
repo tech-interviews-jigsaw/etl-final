{
 "cells": [
  {
   "cell_type": "markdown",
   "id": "c64d44e8-5bbd-4719-b7ad-4d0eadda8465",
   "metadata": {},
   "source": [
    "# Apple Albums ETL Review"
   ]
  },
  {
   "cell_type": "markdown",
   "id": "16f4b010-372a-4c76-9687-24bd565fd5bf",
   "metadata": {},
   "source": [
    "### Introduction"
   ]
  },
  {
   "cell_type": "markdown",
   "id": "9f6f72c5-22e3-4f94-a0e6-012d308afd1e",
   "metadata": {},
   "source": [
    "In this lesson, we'll work with the Apple itunes API.  The two main pages to focus are the [search api page](https://developer.apple.com/library/archive/documentation/AudioVideo/Conceptual/iTuneSearchAPI/SearchExamples.html) and the [lookup documentation](https://developer.apple.com/library/archive/documentation/AudioVideo/Conceptual/iTuneSearchAPI/LookupExamples.html)."
   ]
  },
  {
   "cell_type": "markdown",
   "id": "06a5da97-27a0-4278-a25a-8e9c4eb80cbc",
   "metadata": {},
   "source": [
    "You can retrieve initial information about a musical artist with something like the following:"
   ]
  },
  {
   "cell_type": "code",
   "execution_count": 9,
   "id": "d420a8d5-1821-4010-9c1c-5913a3f9b079",
   "metadata": {},
   "outputs": [],
   "source": [
    "import requests\n",
    "response = requests.get(\"https://itunes.apple.com/search?term=jack+johnson\")\n",
    "results = response.json()\n",
    "# results[]"
   ]
  },
  {
   "cell_type": "markdown",
   "id": "c1fe1684-1a2b-41fd-a633-4ca46bcd430f",
   "metadata": {},
   "source": [
    "> You can assume that the first artist in the search result is the correct artist."
   ]
  },
  {
   "cell_type": "markdown",
   "id": "fc674a6b-7a7c-4624-825c-b7e948adbf67",
   "metadata": {},
   "source": [
    "And once you have the artist's id, you can find information about them like so:"
   ]
  },
  {
   "cell_type": "code",
   "execution_count": 11,
   "id": "48d3db75-85e7-470b-8aa1-dfeacf59e158",
   "metadata": {},
   "outputs": [],
   "source": [
    "import requests\n",
    "response = requests.get(\"https://itunes.apple.com/lookup?id=909253\")\n",
    "results = response.json()\n",
    "# results"
   ]
  },
  {
   "cell_type": "markdown",
   "id": "6b008609-0390-4eb3-a984-720670ce4ca2",
   "metadata": {},
   "source": [
    "And you can find their related albums like so:"
   ]
  },
  {
   "cell_type": "code",
   "execution_count": 12,
   "id": "6df36647-376b-4b8b-8931-12c618f607df",
   "metadata": {},
   "outputs": [],
   "source": [
    "url = \"https://itunes.apple.com/lookup?id=909253&entity=album\"\n",
    "response = requests.get(url)\n",
    "results = response.json()\n",
    "\n",
    "# results['results'][:2]"
   ]
  },
  {
   "cell_type": "markdown",
   "id": "e0f0d95c-77ad-4159-b557-b5f58e03d273",
   "metadata": {},
   "source": [
    "### Your task"
   ]
  },
  {
   "cell_type": "markdown",
   "id": "ae65ebc6-4adc-48cf-bc08-9b8ded5640d5",
   "metadata": {},
   "source": [
    "Use the adapter pattern to load data into two different tables -- an artists table and an albums table.  There should be respective models for each of the tables, and there should also be relational methods in each of the models."
   ]
  },
  {
   "cell_type": "markdown",
   "id": "debddb06-35d9-4911-ae9f-34cd0ae726fd",
   "metadata": {},
   "source": [
    "* For each album, store the album name, the genre, and the number of tracks. \n",
    "* For each artist, store their first name, last name and primary genre, as well as their itunes artist id. \n",
    "* Below is a list of artists to get you started."
   ]
  },
  {
   "cell_type": "code",
   "execution_count": 13,
   "id": "6d0ffd07-ef00-483e-aae8-2956a10956a2",
   "metadata": {},
   "outputs": [],
   "source": [
    "artists = [\"Queen\", \"Metallica\", \"Pink Floyd\", \"Talking Heads\", \"R.E.M.\", \"Tom Petty\", \"Creedence Clearwater Revival\", \"Jay-Z\"]"
   ]
  },
  {
   "cell_type": "markdown",
   "id": "781e2a2b-50c2-48fc-81b8-bfa78a37d509",
   "metadata": {},
   "source": [
    "### Tips"
   ]
  },
  {
   "cell_type": "markdown",
   "id": "6fa644a1-2c49-43a6-b88c-b1afceb001be",
   "metadata": {},
   "source": [
    "Please pay attention to writing clean code (classes should be less than 100 lines long, and functions should be 5 lines or fewer).  Also, pay attention to code hygeine (eg. including proper folders, `settings.py` , `.env` and `requirements.txt` files)."
   ]
  },
  {
   "cell_type": "code",
   "execution_count": null,
   "id": "927c5b98-e286-4f82-8569-622c42a54fd6",
   "metadata": {},
   "outputs": [],
   "source": []
  }
 ],
 "metadata": {
  "kernelspec": {
   "display_name": "Python 3 (ipykernel)",
   "language": "python",
   "name": "python3"
  },
  "language_info": {
   "codemirror_mode": {
    "name": "ipython",
    "version": 3
   },
   "file_extension": ".py",
   "mimetype": "text/x-python",
   "name": "python",
   "nbconvert_exporter": "python",
   "pygments_lexer": "ipython3",
   "version": "3.10.6"
  }
 },
 "nbformat": 4,
 "nbformat_minor": 5
}
